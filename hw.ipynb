{
 "cells": [
  {
   "cell_type": "markdown",
   "metadata": {},
   "source": [
    "## Домашнє завдання до теми «Apache Spark. Оптимізація та SparkUІ»"
   ]
  },
  {
   "cell_type": "markdown",
   "metadata": {},
   "source": [
    "###  Частина 1"
   ]
  },
  {
   "cell_type": "code",
   "execution_count": 14,
   "metadata": {},
   "outputs": [
    {
     "data": {
      "text/plain": [
       "[Row(unit_id='83', count=4)]"
      ]
     },
     "execution_count": 14,
     "metadata": {},
     "output_type": "execute_result"
    }
   ],
   "source": [
    "from pyspark.sql import SparkSession\n",
    "\n",
    "# Створюємо сесію Spark\n",
    "spark = SparkSession.builder \\\n",
    "    .master(\"local[*]\") \\\n",
    "    .config(\"spark.sql.shuffle.partitions\", \"2\") \\\n",
    "    .appName(\"MyGoitSparkSandbox\") \\\n",
    "    .getOrCreate()\n",
    "\n",
    "# Завантажуємо датасет\n",
    "nuek_df = spark.read \\\n",
    "    .option(\"header\", \"true\") \\\n",
    "    .option(\"inferSchema\", \"true\") \\\n",
    "    .csv('./nuek-vuh3.csv')\n",
    "\n",
    "nuek_repart = nuek_df.repartition(2)\n",
    "\n",
    "nuek_processed = nuek_repart \\\n",
    "    .where(\"final_priority < 3\") \\\n",
    "    .select(\"unit_id\", \"final_priority\") \\\n",
    "    .groupBy(\"unit_id\") \\\n",
    "    .count()\n",
    "\n",
    "# Ось ТУТ додано рядок\n",
    "nuek_processed = nuek_processed.where(\"count>2\")\n",
    "\n",
    "nuek_processed.collect()\n"
   ]
  },
  {
   "cell_type": "markdown",
   "metadata": {},
   "source": [
    "#### Job list 1\n",
    "\n",
    "![p1](screenshots/p1.png)\n",
    "\n",
    "**Job 0**\n",
    "\n",
    "![p1_0](screenshots/p1_0.png)\n",
    "\n",
    "**Job 1**\n",
    "\n",
    "![p1_1](screenshots/p1_1.png)\n",
    "\n",
    "**Job 2**\n",
    "\n",
    "![p1_2](screenshots/p1_2.png)\n",
    "\n",
    "**Job 3**\n",
    "\n",
    "![p1_3](screenshots/p1_3.png)\n",
    "\n",
    "**Job 4**\n",
    "\n",
    "![p1_4](screenshots/p1_4.png)"
   ]
  },
  {
   "cell_type": "markdown",
   "metadata": {},
   "source": [
    "Ми очікувано бачимо перші 2 джоби це завантаження і десереалізація файлу.\n",
    "\n",
    "Далі ще 3 джоби без повторень, адже у нас в коді лиш одна операція дії `collect()` (пам'ятаємо, що `count()` після `groupby` - це теж трансформація)."
   ]
  },
  {
   "cell_type": "code",
   "execution_count": 13,
   "metadata": {},
   "outputs": [],
   "source": [
    "spark.stop()\n",
    "del spark"
   ]
  },
  {
   "cell_type": "markdown",
   "metadata": {},
   "source": [
    "###  Частина 2"
   ]
  },
  {
   "cell_type": "code",
   "execution_count": 8,
   "metadata": {},
   "outputs": [
    {
     "data": {
      "text/plain": [
       "[Row(unit_id='83', count=4)]"
      ]
     },
     "execution_count": 8,
     "metadata": {},
     "output_type": "execute_result"
    }
   ],
   "source": [
    "from pyspark.sql import SparkSession\n",
    "\n",
    "# Створюємо сесію Spark\n",
    "spark = SparkSession.builder \\\n",
    "    .master(\"local[*]\") \\\n",
    "    .config(\"spark.sql.shuffle.partitions\", \"2\") \\\n",
    "    .appName(\"MyGoitSparkSandbox\") \\\n",
    "    .getOrCreate()\n",
    "\n",
    "# Завантажуємо датасет\n",
    "nuek_df = spark.read \\\n",
    "    .option(\"header\", \"true\") \\\n",
    "    .option(\"inferSchema\", \"true\") \\\n",
    "    .csv('./nuek-vuh3.csv')\n",
    "\n",
    "nuek_repart = nuek_df.repartition(2)\n",
    "\n",
    "nuek_processed = nuek_repart \\\n",
    "    .where(\"final_priority < 3\") \\\n",
    "    .select(\"unit_id\", \"final_priority\") \\\n",
    "    .groupBy(\"unit_id\") \\\n",
    "    .count()\n",
    "\n",
    "# Проміжний action: collect\n",
    "nuek_processed.collect()\n",
    "\n",
    "# Ось ТУТ додано рядок\n",
    "nuek_processed = nuek_processed.where(\"count>2\")\n",
    "\n",
    "nuek_processed.collect()"
   ]
  },
  {
   "cell_type": "markdown",
   "metadata": {},
   "source": [
    "#### Job list 2\n",
    "\n",
    "![p2](screenshots/p2.png)\n",
    "\n",
    "**Job 0**\n",
    "\n",
    "![p2_0](screenshots/p2_0.png)\n",
    "\n",
    "**Job 1**\n",
    "\n",
    "![p2_1](screenshots/p2_1.png)\n",
    "\n",
    "**Job 2**\n",
    "\n",
    "![p2_2](screenshots/p2_2.png)\n",
    "\n",
    "**Job 3**\n",
    "\n",
    "![p2_3](screenshots/p2_3.png)\n",
    "\n",
    "**Job 4**\n",
    "\n",
    "![p2_4](screenshots/p2_4.png)\n",
    "\n",
    "**Job 5**\n",
    "\n",
    "![p2_5](screenshots/p2_5.png)\n",
    "\n",
    "**Job 6**\n",
    "\n",
    "![p2_6](screenshots/p2_6.png)\n",
    "\n",
    "**Job 7**\n",
    "\n",
    "![p2_7](screenshots/p2_7.png)"
   ]
  },
  {
   "cell_type": "markdown",
   "metadata": {},
   "source": [
    "Знову, очікувано бачимо перші 2 джоби це завантаження і десереалізація файлу.\n",
    "\n",
    "Далі ще 3 джоби що виконують проміжну дію `collect()`.\n",
    "\n",
    "Потім у нас додається ще одна команда трансформації `where(\"count>2\")` і друга команда дії  `collect()`, але ця дія виконується з самого початку, тому ми бачимо знову 3 джоби."
   ]
  },
  {
   "cell_type": "code",
   "execution_count": 9,
   "metadata": {},
   "outputs": [],
   "source": [
    "spark.stop()\n",
    "del spark"
   ]
  },
  {
   "cell_type": "markdown",
   "metadata": {},
   "source": [
    "### Частина 3"
   ]
  },
  {
   "cell_type": "code",
   "execution_count": 19,
   "metadata": {},
   "outputs": [
    {
     "data": {
      "text/plain": [
       "[Row(unit_id='83', count=4)]"
      ]
     },
     "execution_count": 19,
     "metadata": {},
     "output_type": "execute_result"
    }
   ],
   "source": [
    "from pyspark.sql import SparkSession\n",
    "\n",
    "# Створюємо сесію Spark\n",
    "spark = SparkSession.builder \\\n",
    "    .master(\"local[*]\") \\\n",
    "    .config(\"spark.sql.shuffle.partitions\", \"2\") \\\n",
    "    .appName(\"MyGoitSparkSandbox\") \\\n",
    "    .getOrCreate()\n",
    "\n",
    "# Завантажуємо датасет\n",
    "nuek_df = spark.read \\\n",
    "    .option(\"header\", \"true\") \\\n",
    "    .option(\"inferSchema\", \"true\") \\\n",
    "    .csv('./nuek-vuh3.csv')\n",
    "\n",
    "nuek_repart = nuek_df.repartition(2)\n",
    "\n",
    "nuek_processed_cached = nuek_repart \\\n",
    "    .where(\"final_priority < 3\") \\\n",
    "    .select(\"unit_id\", \"final_priority\") \\\n",
    "    .groupBy(\"unit_id\") \\\n",
    "    .count() \\\n",
    "    .cache()  # Додано функцію cache\n",
    "\n",
    "# Проміжний action: collect\n",
    "nuek_processed_cached.collect()\n",
    "\n",
    "# Ось ТУТ додано рядок\n",
    "nuek_processed = nuek_processed_cached.where(\"count>2\")\n",
    "\n",
    "nuek_processed.collect()\n"
   ]
  },
  {
   "cell_type": "markdown",
   "metadata": {},
   "source": [
    "#### Job list 3\n",
    "\n",
    "![p3](screenshots/p3.png)\n",
    "\n",
    "**Job 0**\n",
    "\n",
    "![p3_0](screenshots/p3_0.png)\n",
    "\n",
    "**Job 1**\n",
    "\n",
    "![p3_1](screenshots/p3_1.png)\n",
    "\n",
    "**Job 2**\n",
    "\n",
    "![p3_2](screenshots/p3_2.png)\n",
    "\n",
    "**Job 3**\n",
    "\n",
    "![p3_3](screenshots/p3_3.png)\n",
    "\n",
    "**Job 4**\n",
    "\n",
    "![p3_4](screenshots/p3_4.png)\n",
    "\n",
    "**Job 5**\n",
    "\n",
    "![p3_5](screenshots/p3_5.png)\n",
    "\n",
    "**Job 6**\n",
    "\n",
    "![p3_6](screenshots/p3_6.png)"
   ]
  },
  {
   "cell_type": "markdown",
   "metadata": {},
   "source": [
    "Як і раніше, бачимо перші 2 джоби - це завантаження і десереалізація файлу.\n",
    "\n",
    "Далі бачимо 4 джоби що виконують проміжну дію `collect()` і в цей час фіксуємо проміжний результат в пам'яті, (команда `cache()`). Таким чином на даному етапі ми в пам'яті маємо \"чекпоінт\", і всі наступні дії що виконуються з поточним станом датафрейму будуть починатися не з початку, а саме з цієї точки.\n",
    "\n",
    "Потім у нас додається ще одна команда трансформації `where(\"count>2\")` і друга команда дії `collect()`, але оскільки у нас є закешований запис, то ця дія виконується не з самого початку і ми бачимо лиш одну додаткову джобу."
   ]
  },
  {
   "cell_type": "code",
   "execution_count": 20,
   "metadata": {},
   "outputs": [],
   "source": [
    "# Звільняємо пям'ять від Dataframe\n",
    "nuek_processed_cached.unpersist()\n",
    "spark.stop()\n",
    "del spark"
   ]
  }
 ],
 "metadata": {
  "kernelspec": {
   "display_name": ".env3.12_mds_de",
   "language": "python",
   "name": "python3"
  },
  "language_info": {
   "codemirror_mode": {
    "name": "ipython",
    "version": 3
   },
   "file_extension": ".py",
   "mimetype": "text/x-python",
   "name": "python",
   "nbconvert_exporter": "python",
   "pygments_lexer": "ipython3",
   "version": "3.12.3"
  }
 },
 "nbformat": 4,
 "nbformat_minor": 2
}
